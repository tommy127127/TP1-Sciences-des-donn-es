{
 "cells": [
  {
   "cell_type": "markdown",
   "metadata": {},
   "source": [
    "# Préparation des données"
   ]
  },
  {
   "cell_type": "code",
   "execution_count": 85,
   "metadata": {},
   "outputs": [
    {
     "name": "stdout",
     "output_type": "stream",
     "text": [
      "(50001, 785)\n",
      "[[0. 0. 0. ... 0. 0. 0.]\n",
      " [0. 0. 0. ... 0. 0. 1.]\n",
      " [0. 0. 0. ... 0. 0. 1.]\n",
      " ...\n",
      " [0. 0. 0. ... 0. 0. 0.]\n",
      " [0. 0. 0. ... 0. 0. 0.]\n",
      " [0. 0. 0. ... 0. 0. 0.]]\n"
     ]
    }
   ],
   "source": [
    "import numpy as np\n",
    "file = open(\"ppPATCH.amat\",\"r\")\n",
    "input = np.zeros((1,785))\n",
    "j=0\n",
    "for line in file:\n",
    "    #j=j+1\n",
    "    #if(j%1000==0):\n",
    "    #    print(j)\n",
    "    #if (j<5000 or j>= 45000):\n",
    "    temp = line.strip().split(\" \")\n",
    "    for i in range(len(temp)):\n",
    "        temp[i] = int(temp[i])\n",
    "    temp = np.asarray(temp).reshape(1,785)\n",
    "    input = np.append(input, temp, axis = 0)\n",
    "print(input.shape)\n",
    "print(input)"
   ]
  },
  {
   "cell_type": "code",
   "execution_count": 86,
   "metadata": {},
   "outputs": [
    {
     "name": "stdout",
     "output_type": "stream",
     "text": [
      "(50000, 785)\n"
     ]
    }
   ],
   "source": [
    "# Enlève la première rangée\n",
    "input1=np.delete(input, 0, 0)\n",
    "# Mélange les données\n",
    "np.random.shuffle(input1)\n",
    "print(input1.shape)"
   ]
  },
  {
   "cell_type": "code",
   "execution_count": 87,
   "metadata": {},
   "outputs": [],
   "source": [
    "from sklearn.svm import LinearSVC\n",
    "x_train = input1[:40000, :784]\n",
    "y_train = input1[:40000, 784]\n",
    "x_test = input1[40000:, :784]\n",
    "y_test = input1[40000:, 784]\n",
    "\n"
   ]
  },
  {
   "cell_type": "markdown",
   "metadata": {},
   "source": [
    "# SVM linéaire"
   ]
  },
  {
   "cell_type": "code",
   "execution_count": 88,
   "metadata": {},
   "outputs": [
    {
     "name": "stdout",
     "output_type": "stream",
     "text": [
      "0.52725\n",
      "0.5115\n"
     ]
    }
   ],
   "source": [
    "clf = LinearSVC(max_iter=100, random_state=0)\n",
    "clf.fit(x_train, y_train)\n",
    "print(clf.score(x_train, y_train))\n",
    "print(clf.score(x_test, y_test))"
   ]
  },
  {
   "cell_type": "markdown",
   "metadata": {},
   "source": [
    "# Réseau de neuronnes entièrement connecté"
   ]
  },
  {
   "cell_type": "code",
   "execution_count": 89,
   "metadata": {},
   "outputs": [
    {
     "name": "stdout",
     "output_type": "stream",
     "text": [
      "0.966675\n",
      "0.8522\n"
     ]
    }
   ],
   "source": [
    "from sklearn.neural_network import MLPClassifier\n",
    "clf = MLPClassifier(solver='adam', alpha=1e-5, hidden_layer_sizes=(1000), random_state=1)\n",
    "clf.fit(x_train, y_train)\n",
    "print(clf.score(x_train, y_train))\n",
    "print(clf.score(x_test, y_test))"
   ]
  },
  {
   "cell_type": "markdown",
   "metadata": {},
   "source": [
    "# SVM linéaire"
   ]
  },
  {
   "cell_type": "code",
   "execution_count": 3,
   "metadata": {
    "collapsed": true
   },
   "outputs": [],
   "source": [
    "from sklearn.svm import LinearSVC\n",
    "import warnings\n",
    "warnings.filterwarnings('ignore')\n",
    "\n",
    "def train_svm(c_values, folds=5):\n",
    "    train_accuracies = []\n",
    "    valid_accuracies = []\n",
    "    \n",
    "    for c_val in c_values:\n",
    "        logs = []\n",
    "        train_acc = []\n",
    "        valid_acc = []\n",
    "        \n",
    "        for i in range(folds):\n",
    "            cross_size = len(total_images) // folds\n",
    "            split = cross_size * i\n",
    "\n",
    "            train_x = np.concatenate([total_images[:split], total_images[split+cross_size:]])\n",
    "            train_y = np.concatenate([total_labels[:split], total_labels[split+cross_size:]])\n",
    "\n",
    "            valid_x = total_images[split:split+cross_size]\n",
    "            valid_y = total_labels[split:split+cross_size]\n",
    "\n",
    "            clf = LinearSVC(C=c_val, max_iter=100, random_state=0)\n",
    "            \n",
    "            clf.fit(train_x, train_y)\n",
    "            train_acc.append(clf.score(train_x, train_y))\n",
    "            valid_acc.append(clf.score(valid_x, valid_y))\n",
    "            \n",
    "        train_accuracies.append(np.mean(train_acc))\n",
    "        valid_accuracies.append(np.mean(valid_acc))\n",
    "        print('C:', c_val, 'Train Accuracy:', np.mean(train_acc), 'Valid Accuracy:', np.mean(valid_acc))\n",
    "    \n",
    "    return train_accuracies, valid_accuracies"
   ]
  },
  {
   "cell_type": "code",
   "execution_count": 4,
   "metadata": {},
   "outputs": [
    {
     "name": "stdout",
     "output_type": "stream",
     "text": [
      "C: 100 Train Accuracy: 0.7109 Valid Accuracy: 0.3049\n",
      "C: 10 Train Accuracy: 0.6904999999999999 Valid Accuracy: 0.2968\n",
      "C: 1 Train Accuracy: 0.7805500000000001 Valid Accuracy: 0.3396\n",
      "C: 0.1 Train Accuracy: 0.7687 Valid Accuracy: 0.399\n",
      "C: 0.01 Train Accuracy: 0.643575 Valid Accuracy: 0.4427\n",
      "C: 0.001 Train Accuracy: 0.51915 Valid Accuracy: 0.4366\n",
      "C: 0.0001 Train Accuracy: 0.394425 Valid Accuracy: 0.36549999999999994\n"
     ]
    }
   ],
   "source": [
    "train_accuracies, valid_accuracies = train_svm([100, 10, 1, 0.1, 0.01, 0.001, 0.0001])"
   ]
  },
  {
   "cell_type": "code",
   "execution_count": 5,
   "metadata": {},
   "outputs": [
    {
     "name": "stdout",
     "output_type": "stream",
     "text": [
      "C: 0.012 Train Accuracy: 0.65475 Valid Accuracy: 0.4418\n",
      "C: 0.01 Train Accuracy: 0.643575 Valid Accuracy: 0.4427\n",
      "C: 0.008 Train Accuracy: 0.6300749999999999 Valid Accuracy: 0.4445\n",
      "C: 0.006 Train Accuracy: 0.613275 Valid Accuracy: 0.4466\n",
      "C: 0.004 Train Accuracy: 0.5913999999999999 Valid Accuracy: 0.4471\n"
     ]
    }
   ],
   "source": [
    "train_accuracies, valid_accuracies = train_svm([0.012, 0.01, 0.008, 0.006, 0.004])"
   ]
  },
  {
   "cell_type": "code",
   "execution_count": 7,
   "metadata": {},
   "outputs": [
    {
     "name": "stdout",
     "output_type": "stream",
     "text": [
      "C: 0.002 Train Accuracy: 0.554125 Valid Accuracy: 0.4447\n",
      "C: 0.001 Train Accuracy: 0.51915 Valid Accuracy: 0.4366\n"
     ]
    }
   ],
   "source": [
    "train_accuracies, valid_accuracies = train_svm([0.002, 0.001])"
   ]
  },
  {
   "cell_type": "code",
   "execution_count": 14,
   "metadata": {},
   "outputs": [
    {
     "name": "stdout",
     "output_type": "stream",
     "text": [
      "50000\n",
      "12561.0\n"
     ]
    }
   ],
   "source": [
    "import sys\n",
    "file = open(\"PATCH.amat\",\"r\")\n",
    "i =0\n",
    "j=0\n",
    "for line in file:\n",
    "    i = i+1\n",
    "    for val in line:\n",
    "        j = j+1\n",
    "print(i)\n",
    "print(j/i)"
   ]
  },
  {
   "cell_type": "markdown",
   "metadata": {},
   "source": [
    "# Test"
   ]
  },
  {
   "cell_type": "code",
   "execution_count": 10,
   "metadata": {},
   "outputs": [
    {
     "name": "stdout",
     "output_type": "stream",
     "text": [
      "1000\n",
      "(1000, 785)\n",
      "[[0. 0. 0. ... 0. 0. 0.]\n",
      " [0. 0. 0. ... 0. 0. 1.]\n",
      " [0. 0. 0. ... 0. 0. 1.]\n",
      " ...\n",
      " [0. 0. 0. ... 0. 0. 1.]\n",
      " [0. 0. 0. ... 0. 0. 1.]\n",
      " [1. 1. 1. ... 0. 0. 1.]]\n"
     ]
    }
   ],
   "source": [
    "import numpy as np\n",
    "file = open(\"ppPATCH.amat\",\"r\")\n",
    "input = np.zeros((1,785))\n",
    "i = 0\n",
    "j=0\n",
    "for line in file:\n",
    "    j=j+1\n",
    "    if(j%1000==0):\n",
    "        print(j)\n",
    "        break\n",
    "    temp = line.strip().split(\" \")\n",
    "    for i in range(len(temp)):\n",
    "        temp[i] = int(temp[i])\n",
    "    temp = np.asarray(temp).reshape(1,785)\n",
    "    input = np.append(input, temp, axis = 0)\n",
    "print(input.shape)\n",
    "print(input)"
   ]
  },
  {
   "cell_type": "code",
   "execution_count": null,
   "metadata": {
    "collapsed": true
   },
   "outputs": [],
   "source": []
  }
 ],
 "metadata": {
  "kernelspec": {
   "display_name": "Python 3",
   "language": "python",
   "name": "python3"
  },
  "language_info": {
   "codemirror_mode": {
    "name": "ipython",
    "version": 3
   },
   "file_extension": ".py",
   "mimetype": "text/x-python",
   "name": "python",
   "nbconvert_exporter": "python",
   "pygments_lexer": "ipython3",
   "version": "3.6.1"
  }
 },
 "nbformat": 4,
 "nbformat_minor": 1
}
