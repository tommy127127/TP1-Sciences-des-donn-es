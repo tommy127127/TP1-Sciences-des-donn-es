{
 "cells": [
  {
   "cell_type": "markdown",
   "metadata": {},
   "source": [
    "## IFT 3700 - 21 Décembre 2018 - Travail 2\n",
    "### David Ogaus(1004183), Jonathan Caspar (20059041), Tommy Côté(1056362) et Xiuli Zhang (20039439)\n",
    "------------"
   ]
  },
  {
   "cell_type": "markdown",
   "metadata": {},
   "source": [
    "## Question 2\n",
    "---------\n",
    "Imaginez qu’on vous donne un fichier contenant des données de nature astronomique. Il s’agit de données concernant 6500 milliards d’étoiles. Les données (dépassant la centaine de téraoctets) sont réparties sur **300 serveurs** avec un accès rapide au disque et une bonne capacité de calcul. La connexion entre les serveurs est rapide, mais pas exceptionnelle.\n",
    "\n",
    "Les données pour chaque étoile comporte, la position dans l’espace (x,y,z), la luminosité apparente de l’étoile et sa catégorie (10 catégories possibles). Aussi, pour chaque étoile une liste de ses caractéristiques physiques représentées par 22 nombres réels est incluse.\n",
    "\n",
    "Proposez une approche distribuée qui permet de répondre aux questions suivantes et expliquez en détail toute la démarche permettant leur résolution.\n",
    "\n",
    "1. _**Trouvez les 1000 paires d’étoiles jumelles les plus proches (distance euclidienne de la position).**_\n",
    "    \n",
    "    Utiliser **MapReduce** <br>\n",
    "    <br>\n",
    "    La définition d'étoiles jummeelles:leur âge et leurs propiétés communes laissent penser qu'elles seraient nées       ensemble,avant de disperser dans l'Uvivers.\n",
    "    <br><br>\n",
    "    Étape 1:touver les étoiles jumelles.<br><br>\n",
    "    A:\"mapping\":lire des donées venant de quelques blocs de serveur,produire une liste de paires <clé, valeur> telles que :<br>\n",
    "      la clé correspond à l'âge et les propriétés communes pour vérifier si deux étoiles sont jumelles(pour comparer dans               étape \"regrouper\",les donées ayant même clé sont l'étoiles jumelles)<br>\n",
    "      la valeur correspond à son identité et sa position dans l'espacce (les garder pour claculer la distance.)<br><br>\n",
    "    B:\"regrouper\":regrouper des donées par nouvelle clé,envoyer les donées ayant même clé à même reduce<br><br>\n",
    "    C:\"reduce\":combiner les donées qui ont la même clé,produire une liste de paires <clé, valeur>telles que :<br>\n",
    "       la clé correspond à leux distance<br>\n",
    "       la valeur  correspond à deux identités (deux étoiles sont jumelles) .<br><br>\n",
    "    Étape 2:touver les 1000 étoiles jumelles plus proche.<br><br>\n",
    "    D:\"reduce\":ordonner les donée obtenues d'étape C par clé en ordre croisant,choisir les premier 1000 qui sont les 1000 d'étoiles jumelles plus proche.<br>\n",
    "    \n",
    "2. _**Comptez combien d'étoiles il y a dans chaque catégorie.**_\n",
    "\n",
    "    On peut se servir à nouveau de **MapReduce** :\n",
    "\n",
    "    1. __Etape \"Mapping\"__ : lire des des donées venant quelques blocs de serveur et   produire une liste de paires **<clé, valeur>** telles que :(chaque ligne devient une paire 'valeur de catégorie,1')\n",
    "        * la **clé** correspond à la valeur de la catégorie de chaque étoile (entre 1 et 10)\n",
    "        * la **valeur** est toujours 1\n",
    "    \n",
    "    3. __Etape \"Regroupement\"__ : regrouper les nouvelles donnée par clé et envoyer le donnée ayant même clé à même reduce.\n",
    "    \n",
    "    4. __Etape \"Reduce\"__ : calucler la somme pour chaque catégorie,produire une liste de paire telle que:<br>\n",
    "      la clé est la valeur de catégorie.<br>\n",
    "      la valeur est le somme de cettre catégorie.<br>\n",
    "    \n",
    "    \n",
    "\n",
    "3. _**Produisez un classifieur qui, étant donné le vecteur de caractéristiques (22 nombres réels), prédit la catégorie de l’étoile.**_\n",
    "\n",
    "    1.  lire des donnéé et produire une  liste de paire 'clé,valeur' telles que: la clé est les **22 nombres réels** et la valeur est **catégorie de chaque étoile\".\n",
    "    \n",
    "    2. calucler la distance entre le vecteur à classifier et chaque vecteur(la clé d'un record dans liste obtenue par étape précédente),produire une nouvelle liste paire 'clé,valeur' telles que la clé est la distance et valeur est la valeur de catégorie de cette record.\n",
    "    \n",
    "    3. ordonner la liste obtenue par étape précédente par ordre croissant choisir les k plus petite.\n",
    "    \n",
    "    D.compter la valeur de k plus petite ,quelle catégorie est majiorité,predire la vouvelle étoile est dans cette catégorie.\n",
    "    \n",
    "       \n",
    "    \n",
    "    \n",
    "    "
   ]
  },
  {
   "cell_type": "markdown",
   "metadata": {},
   "source": [
    "## Question 3\n",
    "---------\n",
    "Expliquez en détail comment utiliser un classifieur binaire, capable d’apprendre à effectuer la classification de deux catégories, pour réaliser la classification dans un contexte ou plusieurs catégories doivent être distinguées. Considérez le cas à 3, 25, 12500 catégories et faite le contraste entre les différentes approches étudiées et le nombre de catégories."
   ]
  },
  {
   "cell_type": "markdown",
   "metadata": {},
   "source": [
    "approche 1: on entraine m(m est le nombre de catégorie) classifieurs binaires,chaque clasifieur classifie une catégorie(classe postive) contre tous les autres catégories(classe négative),par exemple classifieur1 classifie catégorie 1 et contre tous les autres,classifieur2 classifie catégorie 2 et contre tous les autres etc.On applique m classifieurs sur le jeux de donnée,on obtient m scores on peut choisir le score plus élevé.<br><br>\n",
    "approche 2:on entraine m(m-1)/2 classiffiers binaires,chaque classifieur classifie une catégorie contre une,par exemple classifieur12 classifie catégorie 1 et 2,classifieur13 classifie catégorie 1 et 3,etc.On les applique sur le juex de donée,on obtient m(m-1)/2 décisions ,on peut voter le classiffier.<br><br>\n",
    "comparer les deux proches:<br>\n",
    "proche 1 a des biais,parceque la donée d'entraine est 1:m,pour l'eviter on peut choisir 1/3 de donnée de (m-1)class (les class négatives).<br>\n",
    "proche 2 s'il y a beaucoup de catégories ,on doit entrainer beaucoup de modèls,c'est très coûteuse.<br>\n",
    "dans le cas a 3 ou 25 catégories on peut utilise les deux proches,mais dans le cas a 25 catégories on choisit 1/3 de donnée des classes négatives.<br>\n",
    "dans le cas a 125000 catégories on doit utiliser proche 1.mais le mieux est choisir d'autre classiffieurs comme réseaux de nerone.\n",
    "\n"
   ]
  },
  {
   "cell_type": "code",
   "execution_count": null,
   "metadata": {},
   "outputs": [],
   "source": []
  }
 ],
 "metadata": {
  "kernelspec": {
   "display_name": "Python 3",
   "language": "python",
   "name": "python3"
  },
  "language_info": {
   "codemirror_mode": {
    "name": "ipython",
    "version": 3
   },
   "file_extension": ".py",
   "mimetype": "text/x-python",
   "name": "python",
   "nbconvert_exporter": "python",
   "pygments_lexer": "ipython3",
   "version": "3.7.0"
  }
 },
 "nbformat": 4,
 "nbformat_minor": 2
}
