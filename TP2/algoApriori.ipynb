{
 "cells": [
  {
   "cell_type": "markdown",
   "metadata": {},
   "source": [
    "## Question 4\n",
    "---------\n",
    "Faites une analyse détaillée et exhaustive des patrons existants dans le jeu de données adulte.\n",
    "Il est possible que le regroupement de valeurs pour certaines caractéristiques donne des résultat intéressant.\n",
    "Vous devez aussi, s’il y a lieux, discuter de l’aspect éthique concernant l’utilisation des patrons obtenus."
   ]
  },
  {
   "cell_type": "code",
   "execution_count": 2,
   "metadata": {},
   "outputs": [],
   "source": [
    "%matplotlib inline\n",
    "import csv\n",
    "import matplotlib.pyplot as plt\n",
    "import pandas as pd\n",
    "import numpy as np"
   ]
  },
  {
   "cell_type": "code",
   "execution_count": 3,
   "metadata": {},
   "outputs": [],
   "source": [
    "dataSet= []\n",
    "idx = 0\n",
    "\n",
    "with open('adult.csv') as csv_file:\n",
    "    reader = csv.reader(csv_file, delimiter=' ')\n",
    "    for i, row in enumerate(reader):            \n",
    "        dataSet.append(row[:-1])        "
   ]
  },
  {
   "cell_type": "code",
   "execution_count": 4,
   "metadata": {},
   "outputs": [],
   "source": [
    "# cette fonction prends une liste C1, la trier, mapper chaque élément de la liste sur frozenset () \n",
    "#et renvoyez cette liste de frozensets.\n",
    "def createC1(dataSet):\n",
    "    C1 = []\n",
    "    for transaction in dataSet:\n",
    "        for item in transaction:\n",
    "            if not [item] in C1:\n",
    "                C1.append([item])\n",
    "                \n",
    "    C1.sort()\n",
    "    return list(map(frozenset, C1))#utilise un ensemble figé pour pouvoir l'utiliser comme clé dans un dictionnaire"
   ]
  },
  {
   "cell_type": "code",
   "execution_count": 5,
   "metadata": {},
   "outputs": [],
   "source": [
    "C1 = createC1(dataSet)"
   ]
  },
  {
   "cell_type": "code",
   "execution_count": 6,
   "metadata": {},
   "outputs": [],
   "source": [
    "D = list(map(set,dataSet))"
   ]
  },
  {
   "cell_type": "code",
   "execution_count": 7,
   "metadata": {},
   "outputs": [],
   "source": [
    "#Cette fonction prend trois arguments: un ensemble de données, Ck, une liste d'ensembles candidats et un support min, \n",
    "#qui est le support minimum qui vous intéresse. Cette fonction est utilisée pour générer L1 à partir de C1. \n",
    "#De plus, cette fonction retourne un dictionnaire avec des valeurs de support.\n",
    "#C1 est un groupe d’éléments candidat de taille 1. Dans l'algorithme Apriori, nous créons C1, puis nous analysons \n",
    "#l'ensemble de données pour voir si ces ensembles d'éléments répondent à nos exigences de support minimales. \n",
    "#Les ensembles d'éléments qui répondent à nos exigences minimales deviennent L1. \n",
    "#L1 est ensuite combiné pour devenir C2 et C2 sera filtré pour devenir L2.\n",
    "def scanD(D, Ck, minSupport):\n",
    "    ssCnt = {}\n",
    "    for tid in D:\n",
    "        for can in Ck:\n",
    "            if can.issubset(tid):\n",
    "                if not can in ssCnt: ssCnt[can]=1\n",
    "                else: ssCnt[can] += 1\n",
    "    numItems = float(len(D))\n",
    "    retList = []\n",
    "    supportData = {}\n",
    "    for key in ssCnt:\n",
    "        support = ssCnt[key]/numItems\n",
    "        if support >= minSupport:\n",
    "            retList.insert(0,key)\n",
    "        supportData[key] = support\n",
    "    return retList, supportData\n"
   ]
  },
  {
   "cell_type": "code",
   "execution_count": 8,
   "metadata": {},
   "outputs": [],
   "source": [
    "#La fonction aprioriGen () prendra une liste d'itemsets fréquents, Lk, et la taille des itemsets,\n",
    "#k, pour produire Ck. Par exemple, les itemsets {0}, {1}, {2} et ainsi de suite seront générés {0,1} {0,2} et {1,2}.\n",
    "def aprioriGen(Lk, k): #Creer Ck\n",
    "    retList = []\n",
    "    lenLk = len(Lk)\n",
    "    for i in range(lenLk):\n",
    "        for j in range(i+1, lenLk): \n",
    "            L1 = list(Lk[i])[:k-2]; L2 = list(Lk[j])[:k-2]\n",
    "            L1.sort(); L2.sort()\n",
    "            if L1==L2: #si k-2 premier elements sont egaux\n",
    "                retList.append(Lk[i] | Lk[j]) #ajouter ensemble union\n",
    "    return retList"
   ]
  },
  {
   "cell_type": "code",
   "execution_count": 9,
   "metadata": {},
   "outputs": [],
   "source": [
    "def apriori(dataSet, minSupport = 0.5):\n",
    "    C1 = createC1(dataSet)\n",
    "    D = list(map(set, dataSet))\n",
    "    L1, supportData = scanD(D, C1, minSupport)\n",
    "    L = [L1]\n",
    "    k = 2\n",
    "    while (len(L[k-2]) > 0):\n",
    "        Ck = aprioriGen(L[k-2], k)\n",
    "        Lk, supK = scanD(D, Ck, minSupport)#balayer DB pour obtenir Lk\n",
    "        supportData.update(supK)\n",
    "        L.append(Lk)\n",
    "        k += 1\n",
    "    return L, supportData #L contient des listes de jeux d'éléments fréquents qui ont rencontré un support minimum de 0.5. \n",
    "                          #La variable suppData est un dictionnaire avec les valeurs de support de nos itemsets"
   ]
  },
  {
   "cell_type": "code",
   "execution_count": 11,
   "metadata": {},
   "outputs": [],
   "source": [
    "#La fonction generateRules () prend trois entrées: une liste d'ensembles d'éléments fréquents, \n",
    "#un dictionnaire de données de support pour ces ensembles d'éléments et un seuil de confiance minimal. \n",
    "#Il va générer une liste de règles avec des valeurs de confiance que nous pourrons trier plus tard.\n",
    "def generateRules(L, supportData, minConf=0.7):  #supportData est un dictionnaire qui vient de la fonction scanD \n",
    "    bigRuleList = []\n",
    "    for i in range(1, len(L)):#n'obtenez que les ensembles contenant deux objets ou plus\n",
    "        for freqSet in L[i]:\n",
    "            H1 = [frozenset([item]) for item in freqSet]\n",
    "            if (i > 1):\n",
    "                rulesFromConseq(freqSet, H1, supportData, bigRuleList, minConf)\n",
    "            else:\n",
    "                calcConf(freqSet, H1, supportData, bigRuleList, minConf)\n",
    "    return bigRuleList  \n",
    "\n",
    "def calcConf(freqSet, H, supportData, brl, minConf=0.7):\n",
    "    # H: items individuels dans le jeu d'associations \n",
    "    # brl:la grande liste de règles à modifier\n",
    "    prunedH = []\n",
    "    for conseq in H:\n",
    "        conf = supportData[freqSet]/supportData[freqSet-conseq]\n",
    "        if conf >= minConf:\n",
    "            print (freqSet-conseq,'-->',conseq,'conf:',conf)\n",
    "            brl.append((freqSet-conseq, conseq, conf))\n",
    "            prunedH.append(conseq)\n",
    "    return prunedH\n",
    "\n",
    "def rulesFromConseq(freqSet, H, supportData, brl, minConf=0.7):\n",
    "    m = len(H[0])\n",
    "    if (len(freqSet) > (m + 1)):\n",
    "        Hmp1 = aprioriGen(H, m + 1)\n",
    "        Hmp1 = calcConf(freqSet, Hmp1, supportData, brl, minConf)\n",
    "        if (len(Hmp1) > 1):\n",
    "            rulesFromConseq(freqSet, Hmp1, supportData, brl, minConf)"
   ]
  },
  {
   "cell_type": "code",
   "execution_count": 12,
   "metadata": {},
   "outputs": [],
   "source": [
    "L,suppData = apriori(dataSet)"
   ]
  },
  {
   "cell_type": "code",
   "execution_count": 13,
   "metadata": {
    "scrolled": true
   },
   "outputs": [
    {
     "name": "stdout",
     "output_type": "stream",
     "text": [
      "frozenset({'Private,'}) --> frozenset({'0,'}) conf: 1.0\n",
      "frozenset({'Private,'}) --> frozenset({'United-States,'}) conf: 0.8871607331688403\n",
      "frozenset({'Private,'}) --> frozenset({'White,'}) conf: 0.8549524145223828\n",
      "frozenset({'Male,'}) --> frozenset({'0,'}) conf: 1.0\n",
      "frozenset({'0,'}) --> frozenset({'United-States,'}) conf: 0.8958570068486841\n",
      "frozenset({'United-States,'}) --> frozenset({'0,'}) conf: 1.0\n",
      "frozenset({'Male,'}) --> frozenset({'United-States,'}) conf: 0.8943552088113815\n",
      "frozenset({'White,'}) --> frozenset({'0,'}) conf: 1.0\n",
      "frozenset({'0,'}) --> frozenset({'White,'}) conf: 0.8542735173981143\n",
      "frozenset({'Male,'}) --> frozenset({'White,'}) conf: 0.8799449288664525\n",
      "frozenset({'White,'}) --> frozenset({'United-States,'}) conf: 0.9210885821110153\n",
      "frozenset({'United-States,'}) --> frozenset({'White,'}) conf: 0.8783339046966061\n",
      "frozenset({'Private,'}) --> frozenset({'United-States,', 'White,'}) conf: 0.7811068029608742\n",
      "frozenset({'Private,'}) --> frozenset({'United-States,', '0,'}) conf: 0.8871607331688403\n",
      "frozenset({'Private,'}) --> frozenset({'0,', 'White,'}) conf: 0.8549524145223828\n",
      "frozenset({'Male,'}) --> frozenset({'United-States,', 'White,'}) conf: 0.8101422670949977\n",
      "frozenset({'White,'}) --> frozenset({'United-States,', '0,'}) conf: 0.9210885821110153\n",
      "frozenset({'0,'}) --> frozenset({'United-States,', 'White,'}) conf: 0.7868615828752189\n",
      "frozenset({'United-States,'}) --> frozenset({'0,', 'White,'}) conf: 0.8783339046966061\n",
      "frozenset({'Male,'}) --> frozenset({'United-States,', '0,'}) conf: 0.8943552088113815\n",
      "frozenset({'Male,'}) --> frozenset({'0,', 'White,'}) conf: 0.8799449288664525\n",
      "frozenset({'United-States,', 'Private,'}) --> frozenset({'0,', 'White,'}) conf: 0.880456915818227\n",
      "frozenset({'Private,', 'White,'}) --> frozenset({'United-States,', '0,'}) conf: 0.9136260564831994\n",
      "frozenset({'0,', 'Private,'}) --> frozenset({'United-States,', 'White,'}) conf: 0.7811068029608742\n",
      "frozenset({'Private,'}) --> frozenset({'United-States,', '0,', 'White,'}) conf: 0.7811068029608742\n",
      "frozenset({'United-States,', 'Male,'}) --> frozenset({'0,', 'White,'}) conf: 0.9058394909688012\n",
      "frozenset({'0,', 'Male,'}) --> frozenset({'United-States,', 'White,'}) conf: 0.8101422670949977\n",
      "frozenset({'Male,', 'White,'}) --> frozenset({'United-States,', '0,'}) conf: 0.920673829143632\n",
      "frozenset({'Male,'}) --> frozenset({'United-States,', '0,', 'White,'}) conf: 0.8101422670949977\n"
     ]
    }
   ],
   "source": [
    "rules= generateRules(L,suppData, minConf=0.7)"
   ]
  },
  {
   "cell_type": "code",
   "execution_count": null,
   "metadata": {},
   "outputs": [],
   "source": []
  }
 ],
 "metadata": {
  "kernelspec": {
   "display_name": "Python 3",
   "language": "python",
   "name": "python3"
  },
  "language_info": {
   "codemirror_mode": {
    "name": "ipython",
    "version": 3
   },
   "file_extension": ".py",
   "mimetype": "text/x-python",
   "name": "python",
   "nbconvert_exporter": "python",
   "pygments_lexer": "ipython3",
   "version": "3.6.5"
  }
 },
 "nbformat": 4,
 "nbformat_minor": 2
}
