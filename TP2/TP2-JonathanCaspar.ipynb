{
 "cells": [
  {
   "cell_type": "markdown",
   "metadata": {},
   "source": [
    "## IFT 3700 - 21 Décembre 2018 - Travail 2\n",
    "### David Ogaus(1004183), Jonathan Caspar (20059041), Tommy Côté(1056362) et Xiuli Zhang (20039439)\n",
    "------------"
   ]
  },
  {
   "cell_type": "markdown",
   "metadata": {},
   "source": [
    "## Question 1\n",
    "---------\n",
    "Cette question est une compétition entre les équipes et sera évaluée en fonction de la précision du classifieur produit par chaque équipe. Les données sont contenues dans le fichier PATCH.amat et il s’agit de 50000 images (28 x 28) en noir et blanc codées en binaire. Les images sont abstraites et appartiennent à deux catégories distinctes. Le fichier contient une image par ligne et chaque ligne commence par 784=28 * 28 bits associés à la couleur des pixels et suivi d’un bit représentant la classe. Le codage du fichier est lisible, mais nécessite un prétraitement pour être utilisé. L’équipe doit produire un classifieur qui sera mis en production et évalué sur des données fraîches non disponibles à l’équipe (mais qui ont exactement la même distribution). Les équipes avec une solution minimalement raisonnable seront classées en ordre de précision et le rang sera transformé en note variant de 10 à 25 sur 25.\n",
    "\n",
    "![DataShape](datashape.jpg)\n",
    "\n",
    "### Importation du fichier PATCH.amat"
   ]
  },
  {
   "cell_type": "code",
   "execution_count": 1,
   "metadata": {},
   "outputs": [],
   "source": [
    "import numpy as np\n",
    "import matplotlib.pyplot as plt\n",
    "import re\n",
    "from sklearn.neighbors import KNeighborsClassifier\n",
    "from sklearn.model_selection import train_test_split\n",
    "from sklearn import svm\n",
    "%matplotlib inline"
   ]
  },
  {
   "cell_type": "code",
   "execution_count": 2,
   "metadata": {},
   "outputs": [],
   "source": [
    "file = open(\"PATCH.amat\")\n",
    "rawData = list(file) # contient une liste de 50.000 vecteurs"
   ]
  },
  {
   "cell_type": "code",
   "execution_count": 3,
   "metadata": {},
   "outputs": [],
   "source": [
    "regex = re.compile(\"\\s*(0|1)\\.\") # expression régulière qui extrait chaque chiffre (0 ou 1) situé avant un point\n",
    "data, label = [], []\n",
    "\n",
    "for vector in rawData :\n",
    "    parsedVector = re.findall(regex, vector)\n",
    "    intVector = [int(pixel.strip()) for pixel in parsedVector]\n",
    "    label.append(intVector.pop(784)) # on retire le dernier bit correspondant à la classe du vecteur et on l'ajoute dans label\n",
    "    data.append(intVector) # on ajoute le vecteur de pixels (auquel on a retiré le dernier bit) dans \"data\""
   ]
  },
  {
   "cell_type": "markdown",
   "metadata": {},
   "source": [
    "En convertissant nos vecteurs en matrice 28 x 28, on peut visualiser quelques vecteurs de **classe 0** et de **classe 1** :"
   ]
  },
  {
   "cell_type": "code",
   "execution_count": 4,
   "metadata": {},
   "outputs": [
    {
     "data": {
      "image/png": "[encoded data removed]",
      "text/plain": [
       "<Figure size 432x288 with 6 Axes>"
      ]
     },
     "metadata": {
      "needs_background": "light"
     },
     "output_type": "display_data"
    }
   ],
   "source": [
    "# Extraction d'échantillons\n",
    "dataSample = [data[i] for i in range(403,406)] + [data[i] for i in range(40003,40006)]\n",
    "labelSample = [label[i] for i in range(403,406)] + [label[i] for i in range(40003,40006)]\n",
    "\n",
    "# Affichage de chaque échantillon et leurs classes respectives\n",
    "for i, vector in enumerate(dataSample):\n",
    "    ax = plt.subplot(2, 3, i+1)\n",
    "    plt.axis('off')\n",
    "    ax.set_title(\"Classe \" + str(labelSample[i]))\n",
    "    matrix = np.reshape(vector, (28,28))\n",
    "    plt.imshow(matrix, cmap='gray')"
   ]
  },
  {
   "cell_type": "code",
   "execution_count": 37,
   "metadata": {},
   "outputs": [
    {
     "data": {
      "text/plain": [
       "[<matplotlib.lines.Line2D at 0x195ae627748>]"
      ]
     },
     "execution_count": 37,
     "metadata": {},
     "output_type": "execute_result"
    },
    {
     "data": {
      "image/png": "[encoded data removed]",
      "text/plain": [
       "<Figure size 432x288 with 1 Axes>"
      ]
     },
     "metadata": {
      "needs_background": "light"
     },
     "output_type": "display_data"
    }
   ],
   "source": [
    "from sklearn import metrics\n",
    "# Split dataset into training set and test set\n",
    "X_train, X_test, y_train, y_test = train_test_split(data[20000:30000], label[20000:30000], test_size=0.2) # 70% training and 30% test\n",
    "\n",
    "score = []\n",
    "for k in range(1,7):\n",
    "    KNN = KNeighborsClassifier(n_neighbors=k)\n",
    "    KNN.fit(X_train, y_train)\n",
    "    y_pred = KNN.predict(X_test)\n",
    "    score.append(metrics.accuracy_score(y_test, y_pred))\n",
    " \n",
    "plt.plot(np.arange(1,7), score, color='blue')"
   ]
  },
  {
   "cell_type": "markdown",
   "metadata": {},
   "source": [
    "Le score de classification de KNN est **maximisé** pour $k=2$.\n",
    "\n",
    "Testons donc ce même classifieur sur l'ensemble des données avec un **hyperparamètre** $k=2$."
   ]
  },
  {
   "cell_type": "code",
   "execution_count": 38,
   "metadata": {},
   "outputs": [
    {
     "name": "stdout",
     "output_type": "stream",
     "text": [
      "Score de KNN(k=2) : 0.6034666666666667\n"
     ]
    }
   ],
   "source": [
    "# Split dataset into training set and test set\n",
    "X_train, X_test, y_train, y_test = train_test_split(data, label, test_size=0.3) # 70% training and 30% test\n",
    "KNN = KNeighborsClassifier(n_neighbors=2)\n",
    "KNN.fit(X_train, y_train)\n",
    "y_pred = KNN.predict(X_test)\n",
    "print(\"Score de KNN(k=2) :\", metrics.accuracy_score(y_test, y_pred))"
   ]
  },
  {
   "cell_type": "markdown",
   "metadata": {},
   "source": [
    "## Question 2\n",
    "---------\n",
    "Imaginez qu’on vous donne un fichier contenant des données de nature astronomique. Il s’agit de données concernant 6500 milliards d’étoiles. Les données (dépassant la centaine de téraoctets) sont réparties sur **300 serveurs** avec un accès rapide au disque et une bonne capacité de calcul. La connexion entre les serveurs est rapide, mais pas exceptionnelle.\n",
    "\n",
    "Les données pour chaque étoile comporte, la position dans l’espace (x,y,z), la luminosité apparente de l’étoile et sa catégorie (10 catégories possibles). Aussi, pour chaque étoile une liste de ses caractéristiques physiques représentées par 22 nombres réels est incluse.\n",
    "\n",
    "Proposez une approche distribuée qui permet de répondre aux questions suivantes et expliquez en détail toute la démarche permettant leur résolution.\n",
    "\n",
    "1. _**Trouvez les 1000 paires d’étoiles jumelles les plus proches (distance euclidienne de la position).**_\n",
    "    \n",
    "    ...\n",
    "    \n",
    "2. _**Comptez combien d'étoiles il y a dans chaque catégorie.**_\n",
    "\n",
    "    On peut se servir à nouveau de **MapReduce** :\n",
    "\n",
    "    1. __Etape \"Mapping\"__ : on demande au 300 serveurs d'itérer sur chaque étoile qu'ils contiennent, à l'issue de ce parcours, ils doivent produire une liste de paires **<clé, valeur>** telles que :\n",
    "        * la **clé** correspond à la valeur de la catégorie de chaque étoile (entre 1 et 10)\n",
    "        * la **valeur** correspond au nombre de catégories trouvées pour chaque étoile (i.e. toujours 1 dans ce cas)\n",
    "    \n",
    "    2. __Etape \"Reduce\"__ : chaque serveur doit réduire leurs listes résultantes en regroupant les paires ayant la même clé (chaque regroupement incrémente la valeur de la paire de 1) : mène à la production d'une liste de 1 à 10 paires (puisqu'une des 10 catégories peut ne pas apparaitre sur un serveur en particulier) correspondant à chaque catégorie d'étoile et le nombre d'étoiles y appartenant pour **CHAQUE** serveur.\n",
    "    \n",
    "    3. __Etape \"Regroupement\"__ : les 300 listes de 1 à 10 paires sont envoyées à un **serveur central** qui s'occupe de mettre bout à bout les listes (temps pratiquement linéaire)\n",
    "    \n",
    "    4. __Etape \"Reduce\"__ : le serveur central doit réduire les listes comme dans l'étape 2.\n",
    "    \n",
    "    A la fin de ce traitement, la liste résultante est une liste contenant 10 paires correspondants à chaque catégorie d'étoiles et le nombre d'étoiles y appartenant en ayant pris en compte **TOUTES** les données contenues par les 300 serveurs.\n",
    "\n",
    "\n",
    "3. _**Produisez un classifieur qui, étant donné le vecteur de caractéristiques (22 nombres réels), prédit la catégorie de l’étoile.**_\n",
    "\n",
    "    1. __Etape \"Mapping\"__ : on demande au 300 serveurs d'itérer sur chaque étoile qu'ils contiennent, à l'issue de ce parcours, ils doivent produire deux listes de vecteurs contenant respectivement les **22 nombres réels** et la **catégorie de chaque étoile\".\n",
    "    \n",
    "    2. Chaque serveur doit produire un classifieur KNN qu'il entraine avec la liste des vecteurs de 22 nombres réels et les \"labels\" de catégorie.\n",
    "    \n",
    "    3. Quand toutes les classifieurs ont terminés leurs entrainements, on peut maintenant faire une **requête de prédiction** pour un vecteur donné : un serveur/noeud designé comme central (ayant accès au classifieur entrainé sur ses données mais aussi aux classifieurs des autres serveurs) reçoit un vecteur de 22 nombres réels :\n",
    "        \n",
    "        1) Le serveur central fait une prédiction du \"label\" du vecteur avec son propre classifieur\n",
    "        \n",
    "        2) Le serveur central envoie une requête aux 299 autres serveurs en leurs transmettant le vecteur et demande à ces autres serveurs de prédire le \"label\" du vecteur en se basant sur leurs classifieurs respectifs.\n",
    "        \n",
    "        3) Le serveur central récupère les 299 labels prédits et les ajoute au label qu'il avait prédit par lui-même.\n",
    "        \n",
    "        4) Le serveur central itère sur la liste des 300 \"labels\" prédits et retourne le **\"label\" majoritaire** (celui qui apparait le plus souvent)\n",
    "    \n",
    "    \n",
    "    \n",
    "    "
   ]
  },
  {
   "cell_type": "markdown",
   "metadata": {},
   "source": [
    "## Question 3\n",
    "---------\n",
    "Expliquez en détail comment utiliser un classifieur binaire, capable d’apprendre à effectuer la classification de deux catégories, pour réaliser la classification dans un contexte ou plusieurs catégories doivent être distinguées. Considérez le cas à 3, 25, 12500 catégories et faite le contraste entre les différentes approches étudiées et le nombre de catégories."
   ]
  },
  {
   "cell_type": "markdown",
   "metadata": {},
   "source": [
    "..."
   ]
  },
  {
   "cell_type": "markdown",
   "metadata": {},
   "source": [
    "## Question 4\n",
    "---------\n",
    "Faites une analyse détaillée et exhaustive des patrons existants dans le jeu de données adulte. Il est possible que le regroupement de valeurs pour certaines caractéristiques donne des résultat intéressant. Vous devez aussi, s’il y a lieux, discuter de l’aspect éthique concernant l’utilisation des patrons obtenus."
   ]
  },
  {
   "cell_type": "code",
   "execution_count": 42,
   "metadata": {},
   "outputs": [
    {
     "data": {
      "text/html": [
       "<div>\n",
       "<style scoped>\n",
       "    .dataframe tbody tr th:only-of-type {\n",
       "        vertical-align: middle;\n",
       "    }\n",
       "\n",
       "    .dataframe tbody tr th {\n",
       "        vertical-align: top;\n",
       "    }\n",
       "\n",
       "    .dataframe thead th {\n",
       "        text-align: right;\n",
       "    }\n",
       "</style>\n",
       "<table border=\"1\" class=\"dataframe\">\n",
       "  <thead>\n",
       "    <tr style=\"text-align: right;\">\n",
       "      <th></th>\n",
       "      <th>age</th>\n",
       "      <th>workclass</th>\n",
       "      <th>fnlwgt</th>\n",
       "      <th>education</th>\n",
       "      <th>educational-num</th>\n",
       "      <th>marital-status</th>\n",
       "      <th>occupation</th>\n",
       "      <th>relationship</th>\n",
       "      <th>race</th>\n",
       "      <th>gender</th>\n",
       "      <th>capital-gain</th>\n",
       "      <th>capital-loss</th>\n",
       "      <th>hours-per-week</th>\n",
       "      <th>native-country</th>\n",
       "      <th>income</th>\n",
       "    </tr>\n",
       "  </thead>\n",
       "  <tbody>\n",
       "    <tr>\n",
       "      <th>0</th>\n",
       "      <td>25</td>\n",
       "      <td>Private</td>\n",
       "      <td>226802</td>\n",
       "      <td>11th</td>\n",
       "      <td>7</td>\n",
       "      <td>Never-married</td>\n",
       "      <td>Machine-op-inspct</td>\n",
       "      <td>Own-child</td>\n",
       "      <td>Black</td>\n",
       "      <td>Male</td>\n",
       "      <td>0</td>\n",
       "      <td>0</td>\n",
       "      <td>40</td>\n",
       "      <td>United-States</td>\n",
       "      <td>&lt;=50K</td>\n",
       "    </tr>\n",
       "    <tr>\n",
       "      <th>1</th>\n",
       "      <td>38</td>\n",
       "      <td>Private</td>\n",
       "      <td>89814</td>\n",
       "      <td>HS-grad</td>\n",
       "      <td>9</td>\n",
       "      <td>Married-civ-spouse</td>\n",
       "      <td>Farming-fishing</td>\n",
       "      <td>Husband</td>\n",
       "      <td>White</td>\n",
       "      <td>Male</td>\n",
       "      <td>0</td>\n",
       "      <td>0</td>\n",
       "      <td>50</td>\n",
       "      <td>United-States</td>\n",
       "      <td>&lt;=50K</td>\n",
       "    </tr>\n",
       "    <tr>\n",
       "      <th>2</th>\n",
       "      <td>28</td>\n",
       "      <td>Local-gov</td>\n",
       "      <td>336951</td>\n",
       "      <td>Assoc-acdm</td>\n",
       "      <td>12</td>\n",
       "      <td>Married-civ-spouse</td>\n",
       "      <td>Protective-serv</td>\n",
       "      <td>Husband</td>\n",
       "      <td>White</td>\n",
       "      <td>Male</td>\n",
       "      <td>0</td>\n",
       "      <td>0</td>\n",
       "      <td>40</td>\n",
       "      <td>United-States</td>\n",
       "      <td>&gt;50K</td>\n",
       "    </tr>\n",
       "    <tr>\n",
       "      <th>3</th>\n",
       "      <td>44</td>\n",
       "      <td>Private</td>\n",
       "      <td>160323</td>\n",
       "      <td>Some-college</td>\n",
       "      <td>10</td>\n",
       "      <td>Married-civ-spouse</td>\n",
       "      <td>Machine-op-inspct</td>\n",
       "      <td>Husband</td>\n",
       "      <td>Black</td>\n",
       "      <td>Male</td>\n",
       "      <td>7688</td>\n",
       "      <td>0</td>\n",
       "      <td>40</td>\n",
       "      <td>United-States</td>\n",
       "      <td>&gt;50K</td>\n",
       "    </tr>\n",
       "    <tr>\n",
       "      <th>4</th>\n",
       "      <td>18</td>\n",
       "      <td>?</td>\n",
       "      <td>103497</td>\n",
       "      <td>Some-college</td>\n",
       "      <td>10</td>\n",
       "      <td>Never-married</td>\n",
       "      <td>?</td>\n",
       "      <td>Own-child</td>\n",
       "      <td>White</td>\n",
       "      <td>Female</td>\n",
       "      <td>0</td>\n",
       "      <td>0</td>\n",
       "      <td>30</td>\n",
       "      <td>United-States</td>\n",
       "      <td>&lt;=50K</td>\n",
       "    </tr>\n",
       "  </tbody>\n",
       "</table>\n",
       "</div>"
      ],
      "text/plain": [
       "   age  workclass  fnlwgt     education  educational-num      marital-status  \\\n",
       "0   25    Private  226802          11th                7       Never-married   \n",
       "1   38    Private   89814       HS-grad                9  Married-civ-spouse   \n",
       "2   28  Local-gov  336951    Assoc-acdm               12  Married-civ-spouse   \n",
       "3   44    Private  160323  Some-college               10  Married-civ-spouse   \n",
       "4   18          ?  103497  Some-college               10       Never-married   \n",
       "\n",
       "          occupation relationship   race  gender  capital-gain  capital-loss  \\\n",
       "0  Machine-op-inspct    Own-child  Black    Male             0             0   \n",
       "1    Farming-fishing      Husband  White    Male             0             0   \n",
       "2    Protective-serv      Husband  White    Male             0             0   \n",
       "3  Machine-op-inspct      Husband  Black    Male          7688             0   \n",
       "4                  ?    Own-child  White  Female             0             0   \n",
       "\n",
       "   hours-per-week native-country income  \n",
       "0              40  United-States  <=50K  \n",
       "1              50  United-States  <=50K  \n",
       "2              40  United-States   >50K  \n",
       "3              40  United-States   >50K  \n",
       "4              30  United-States  <=50K  "
      ]
     },
     "execution_count": 42,
     "metadata": {},
     "output_type": "execute_result"
    }
   ],
   "source": [
    "import pandas as pd\n",
    "df = pd.read_csv(\"adult.csv\")\n",
    "df.head()"
   ]
  },
  {
   "cell_type": "markdown",
   "metadata": {},
   "source": [
    "__Patrons existants__ :\n",
    "* age <-> education\n",
    "* age <-> income\n",
    "* age <-> marital-status\n",
    "* workclass <-> income\n",
    "* education <-> income\n",
    "* occupation <-> income\n",
    "* occupation <-> gender (problème éthique)\n",
    "* occupation <-> hours-per-week\n",
    "* race <-> income (problème éthique)\n",
    "* race <-> education (problème éthique)\n",
    "* race <-> native-country\n",
    "* gender <-> income (problème éthique)\n",
    "* gender <-> education (problème éthique)\n",
    "* gender <-> relationship\n",
    "* capital-gain <-> income\n",
    "* capital-loss <-> income\n",
    "* native-country <-> education (problème éthique)\n",
    "* native-country <-> hours-per-week (problème éthique)\n",
    "* native-country <-> income (problème éthique)\n",
    "\n",
    "En conclusion, le fait de découvrir et d'exploiter des patrons qui permettent de déduire certaines données à partir de la race, le genre, les origines des personnes, etc.. soulève des problèmes d'éthique puisque ce genre de déductions pourraient s'apparenter à du racisme, sexisme, et discrimination en règle général."
   ]
  }
 ],
 "metadata": {
  "kernelspec": {
   "display_name": "Python 3",
   "language": "python",
   "name": "python3"
  },
  "language_info": {
   "codemirror_mode": {
    "name": "ipython",
    "version": 3
   },
   "file_extension": ".py",
   "mimetype": "text/x-python",
   "name": "python",
   "nbconvert_exporter": "python",
   "pygments_lexer": "ipython3",
   "version": "3.7.0"
  }
 },
 "nbformat": 4,
 "nbformat_minor": 2
}
