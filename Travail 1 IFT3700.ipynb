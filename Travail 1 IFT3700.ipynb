{
 "cells": [
  {
   "cell_type": "markdown",
   "metadata": {},
   "source": [
    "# David Ogaus, Jonathan Caspar, Tommy Côté et Xiuli Zhang \n",
    "## IFT 3700\n",
    "## 6 Novembre 2018\n",
    "## Travail 1"
   ]
  },
  {
   "cell_type": "markdown",
   "metadata": {},
   "source": [
    "## Mesure de similarité\n",
    "ON va mettre ici notre description de la mesure de similarité"
   ]
  },
  {
   "cell_type": "markdown",
   "metadata": {},
   "source": [
    "## Importation du jeu de données MNIST"
   ]
  },
  {
   "cell_type": "code",
   "execution_count": 13,
   "metadata": {},
   "outputs": [],
   "source": [
    "import csv\n",
    "\n",
    "#On ouvre le fichier 'mnist_train.csv'\n",
    "data = open('mnist_train.csv')\n",
    "csv_file = csv.reader(data)\n",
    "data_points = []\n",
    "for row in csv_file:\n",
    "    data_points.append(row)\n",
    "data.close()\n",
    "\n",
    "#On enlève la première ligne, soit les \"headers\" de nos colonnes\n",
    "data_points.pop(0)\n",
    "\n",
    "#On transforme les données en integers\n",
    "for i in range(len(data_points)):\n",
    "    for j in range(0,785):\n",
    "            data_points[i][j] = int(data_points[i][j])\n",
    "\n",
    "#Vecteur 60 000 x 1 qui contient les étiquettes\n",
    "y_train = []\n",
    "for row in data_points:\n",
    "    y_train.append(row[0])\n",
    "\n",
    "#Matrice 60 000 x 784 qui contient les données\n",
    "x_train = []\n",
    "for row in data_points:\n",
    "    x_train.append(row[1:785])\n",
    "    \n",
    "#On ouvre le fichier 'mnist_test.csv'\n",
    "data = open('mnist_test.csv')\n",
    "csv_file = csv.reader(data)\n",
    "data_points = []\n",
    "for row in csv_file:\n",
    "    data_points.append(row)\n",
    "data.close()\n",
    "\n",
    "#On enlève la première ligne, soit les \"headers\" de nos colones\n",
    "data_points.pop(0)\n",
    "\n",
    "#Convertir en int\n",
    "for i in range(len(data_points)):\n",
    "    for j in range(0,785):\n",
    "            data_points[i][j] = int(data_points[i][j])\n",
    "\n",
    "#Vecteur 10 000 x 1 qui contient les étiquettes\n",
    "y_test = []\n",
    "for row in data_points:\n",
    "    y_test.append(row[0])\n",
    "\n",
    "#Matrice 10 000 x 784 qui contient les données\n",
    "x_test = []\n",
    "for row in data_points:\n",
    "    x_test.append(row[1:785])"
   ]
  },
  {
   "cell_type": "markdown",
   "metadata": {},
   "source": [
    "## Algorithme k-moyenne"
   ]
  },
  {
   "cell_type": "code",
   "execution_count": 7,
   "metadata": {},
   "outputs": [],
   "source": []
  },
  {
   "cell_type": "markdown",
   "metadata": {},
   "source": [
    "## Algorithme partition binaire"
   ]
  },
  {
   "cell_type": "code",
   "execution_count": null,
   "metadata": {
    "collapsed": true
   },
   "outputs": [],
   "source": []
  },
  {
   "cell_type": "markdown",
   "metadata": {},
   "source": [
    "## Algorithme PCoA"
   ]
  },
  {
   "cell_type": "code",
   "execution_count": null,
   "metadata": {
    "collapsed": true
   },
   "outputs": [],
   "source": []
  },
  {
   "cell_type": "markdown",
   "metadata": {},
   "source": [
    "## Algorithme Isomap"
   ]
  },
  {
   "cell_type": "code",
   "execution_count": null,
   "metadata": {
    "collapsed": true
   },
   "outputs": [],
   "source": []
  },
  {
   "cell_type": "markdown",
   "metadata": {},
   "source": [
    "## Algorithme KNN"
   ]
  },
  {
   "cell_type": "code",
   "execution_count": null,
   "metadata": {
    "collapsed": true
   },
   "outputs": [],
   "source": []
  }
 ],
 "metadata": {
  "kernelspec": {
   "display_name": "Python 3",
   "language": "python",
   "name": "python3"
  },
  "language_info": {
   "codemirror_mode": {
    "name": "ipython",
    "version": 3
   },
   "file_extension": ".py",
   "mimetype": "text/x-python",
   "name": "python",
   "nbconvert_exporter": "python",
   "pygments_lexer": "ipython3",
   "version": "3.6.1"
  }
 },
 "nbformat": 4,
 "nbformat_minor": 2
}
