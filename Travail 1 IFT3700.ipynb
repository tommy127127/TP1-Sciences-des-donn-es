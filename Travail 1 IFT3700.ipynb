{
 "cells": [
  {
   "cell_type": "markdown",
   "metadata": {},
   "source": [
    "# David Ogaus, Jonathan Caspar, Tommy Côté et Xiuli Zhang \n",
    "## IFT 3700\n",
    "## 6 Novembre 2018\n",
    "## Travail 1"
   ]
  },
  {
   "cell_type": "markdown",
   "metadata": {},
   "source": [
    "## Mesure de similarité\n",
    "ON va mettre ici notre description de la mesure de similarité"
   ]
  },
  {
   "cell_type": "markdown",
   "metadata": {},
   "source": [
    "## Importation du jeu de données MNIST"
   ]
  },
  {
   "cell_type": "code",
   "execution_count": 70,
   "metadata": {
    "collapsed": true
   },
   "outputs": [],
   "source": [
    "import csv\n",
    "\n",
    "#On ouvre le fichier 'mnist_train.csv'\n",
    "data = open('mnist_train.csv')\n",
    "csv_file = csv.reader(data)\n",
    "data_points = []\n",
    "for row in csv_file:\n",
    "    data_points.append(row)\n",
    "data.close()\n",
    "\n",
    "#On enlève la première ligne, soit les \"headers\" de nos colonnes\n",
    "data_points.pop(0)\n",
    "\n",
    "#On transforme les données en integers\n",
    "for i in range(len(data_points)):\n",
    "    for j in range(0,785):\n",
    "            data_points[i][j] = int(data_points[i][j])\n",
    "\n",
    "#Vecteur 60 000 x 1 qui contient les étiquettes\n",
    "y_train = []\n",
    "for row in data_points:\n",
    "    y_train.append(row[0])\n",
    "\n",
    "#Matrice 60 000 x 784 qui contient les données\n",
    "x_train = []\n",
    "for row in data_points:\n",
    "    x_train.append(row[1:785])\n",
    "    \n",
    "#On ouvre le fichier 'mnist_test.csv'\n",
    "data = open('mnist_test.csv')\n",
    "csv_file = csv.reader(data)\n",
    "data_points = []\n",
    "for row in csv_file:\n",
    "    data_points.append(row)\n",
    "data.close()\n",
    "\n",
    "#On enlève la première ligne, soit les \"headers\" de nos colones\n",
    "data_points.pop(0)\n",
    "\n",
    "#Convertir en int\n",
    "for i in range(len(data_points)):\n",
    "    for j in range(0,785):\n",
    "            data_points[i][j] = int(data_points[i][j])\n",
    "\n",
    "#Vecteur 10 000 x 1 qui contient les étiquettes\n",
    "y_test = []\n",
    "for row in data_points:\n",
    "    y_test.append(row[0])\n",
    "\n",
    "#Matrice 10 000 x 784 qui contient les données\n",
    "x_test = []\n",
    "for row in data_points:\n",
    "    x_test.append(row[1:785])"
   ]
  },
  {
   "cell_type": "markdown",
   "metadata": {},
   "source": [
    "## Algorithme k-moyenne"
   ]
  },
  {
   "cell_type": "code",
   "execution_count": 46,
   "metadata": {},
   "outputs": [],
   "source": []
  },
  {
   "cell_type": "markdown",
   "metadata": {},
   "source": [
    "## Algorithme partition binaire"
   ]
  },
  {
   "cell_type": "code",
   "execution_count": 72,
   "metadata": {},
   "outputs": [
    {
     "data": {
      "text/plain": [
       "<matplotlib.text.Text at 0x21793113320>"
      ]
     },
     "execution_count": 72,
     "metadata": {},
     "output_type": "execute_result"
    },
    {
     "data": {
      "image/png": "[encoded data removed]",
      "text/plain": [
       "<matplotlib.figure.Figure at 0x2178f4f02b0>"
      ]
     },
     "metadata": {},
     "output_type": "display_data"
    }
   ],
   "source": [
    "%matplotlib inline\n",
    "from sklearn.metrics import silhouette_score\n",
    "import numpy as np\n",
    "import matplotlib.pyplot as plt\n",
    "import math\n",
    "from sklearn.cluster import AgglomerativeClustering\n",
    "from sklearn.metrics.pairwise import pairwise_distances\n",
    "\n",
    "#Ensemble de donné réduit pour faire des tests\n",
    "x__test= x_test[0:100]\n",
    "\n",
    "# La métrique euclidienne\n",
    "def metric_euclid(x, y):\n",
    "    sum=0\n",
    "    for i in range(len(x)):\n",
    "        sum += (x[i]-y[i])**2\n",
    "    return math.sqrt(sum)\n",
    "\n",
    "# La métrique #1 dans le fichier word\n",
    "def metric_n1(x, y):\n",
    "    sum_x=0\n",
    "    sum_y=0\n",
    "    for i in range(len(x)):\n",
    "        sum_x += x[i]\n",
    "        sum_y += y[i]\n",
    "    return abs(sum_x - sum_y)\n",
    "\n",
    "# La métrique #3 dans le fichier word\n",
    "def metric_n3(x, y):\n",
    "    sum=0\n",
    "    for i in range(len(x)):\n",
    "        if ((x[i]==0 and y[i]==0) or (x[i]!=0 and y[i]!=0)):\n",
    "            sum+=1\n",
    "    return sum/784\n",
    "\n",
    "# Définie une matrice des distances avec la métrique de notre choix\n",
    "m = pairwise_distances(x__test, metric=metric_n3)\n",
    "\n",
    "scores = []\n",
    "scores_t=[]\n",
    "k_range = range(2,20)\n",
    "for k in k_range:\n",
    "    y_pred = AgglomerativeClustering(affinity='euclidean', linkage='average', n_clusters=k).fit_predict(x__test)\n",
    "    scores.append(silhouette_score(x__test, y_pred))\n",
    "    y_pred_t = AgglomerativeClustering(affinity='precomputed', linkage='average', n_clusters=k).fit_predict(m)\n",
    "    scores_t.append(silhouette_score(x__test, y_pred_t))\n",
    "plt.plot(k_range, scores, label='Distance Euclidienne')\n",
    "plt.plot(k_range, scores_t, label='Distance n3')\n",
    "plt.legend(loc='upper left')\n",
    "plt.xlabel('k')\n",
    "plt.ylabel('Score silhouette')\n",
    "plt.title('Score silhouette en fonction de k')"
   ]
  },
  {
   "cell_type": "markdown",
   "metadata": {},
   "source": [
    "## Algorithme PCoA"
   ]
  },
  {
   "cell_type": "code",
   "execution_count": null,
   "metadata": {},
   "outputs": [],
   "source": []
  },
  {
   "cell_type": "markdown",
   "metadata": {},
   "source": [
    "## Algorithme Isomap"
   ]
  },
  {
   "cell_type": "code",
   "execution_count": null,
   "metadata": {},
   "outputs": [],
   "source": []
  },
  {
   "cell_type": "markdown",
   "metadata": {},
   "source": [
    "## Algorithme KNN"
   ]
  },
  {
   "cell_type": "code",
   "execution_count": null,
   "metadata": {
    "collapsed": true
   },
   "outputs": [],
   "source": []
  }
 ],
 "metadata": {
  "kernelspec": {
   "display_name": "Python 3",
   "language": "python",
   "name": "python3"
  },
  "language_info": {
   "codemirror_mode": {
    "name": "ipython",
    "version": 3
   },
   "file_extension": ".py",
   "mimetype": "text/x-python",
   "name": "python",
   "nbconvert_exporter": "python",
   "pygments_lexer": "ipython3",
   "version": "3.6.1"
  }
 },
 "nbformat": 4,
 "nbformat_minor": 2
}
